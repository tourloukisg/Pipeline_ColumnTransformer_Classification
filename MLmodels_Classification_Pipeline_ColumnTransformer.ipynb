{
 "cells": [
  {
   "cell_type": "markdown",
   "metadata": {},
   "source": [
    "\n",
    "# Pipeline_ColumnTransformer_HyperparameterTuning_MLModels_Classification\n",
    "\n",
    "**--------------------------------------------------------------------------------------------------------------------------**\n",
    "**--------------------------------------------------------------------------------------------------------------------------**\n",
    "**--------------------------------------------------------------------------------------------------------------------------**\n",
    "\n",
    "**STRUCTURE**\n",
    "\n",
    "*In this notebook, the use of sklearn Pipeline and ColumnTransformer functions for data preprocessing and for the automation of a machine learning workflow is demonstrated. The scope of this project is to predict whether the employees of a bank are likely to exit the company or not (Churn Modelling dataset). The machine learning models, whose performance is to be evaluated in this binary classification problem, are a) Decision Tree, b) Random Forest, c) AdaBoost and d) GradientBoosting Classifier. The fist task of this case study is focused on a) the use of pipelines to select the preprocessing types that are to be applied to the numerical and categorical features of the dataset (e.g. num_features-->Scaling, \"MinMaxScaler\", cat_features --> categorical data conversion, \"OneHotEncoder\") and b) the use of ColumnTransformer to apply these transformations to the relevant dataset features.*\n",
    "\n",
    "*In the second part of this project the use of pipelines for hyperparameter tuning is presented. 'RandomizedSearchCV' function takes as input a set of values for each of the examined machine learning models hyperparameters and does a randomized search (fit & score approach) so as to determine an optimal value for each of them. In contrast to 'GridSearchCV', randomized search combines the hyperparameters values randomly (whereas in 'GridSearchCV' all possible combinations are tested) based on the parameters distribution. The tuning of the models hyperparameters is an important part of ML, as it can improve the model training performance and avoid/minimize overfitting (by making the model less sensitive to noise and by controlling the complexity of its structure). The optimal hyperparameter values determined by the random search are then used by each examined classifier for making predictions on the test set and the 'best' model is the one with the highest average precision score. In terms of the 'best' model's classification performance, its Precision_Recall plot, classification report and confusion matrix are provided.*\n",
    "\n",
    "\n",
    "**The Dataset (.csv file format) for this project has been obtained from Kaggle:**\n",
    "\n",
    "\"*Churn Modelling*\" -- File: \"Churn_Modelling.csv\" -- Source:https://www.kaggle.com/shubh0799/churn-modelling\n"
   ]
  },
  {
   "cell_type": "code",
   "execution_count": 1,
   "metadata": {},
   "outputs": [],
   "source": [
    "# Importing the libraries\n",
    "import pandas as pd\n",
    "import numpy as np\n",
    "import matplotlib.pyplot as plt\n",
    "import seaborn as sns\n",
    "from sklearn.model_selection import train_test_split\n",
    "from sklearn.pipeline import Pipeline\n",
    "from sklearn.compose import ColumnTransformer\n",
    "from sklearn.preprocessing import MinMaxScaler, OneHotEncoder\n",
    "from sklearn.model_selection import RandomizedSearchCV\n",
    "from sklearn.tree import DecisionTreeClassifier\n",
    "from sklearn.ensemble import RandomForestClassifier, AdaBoostClassifier, GradientBoostingClassifier\n",
    "from sklearn import metrics\n",
    "from sklearn.metrics import classification_report,plot_confusion_matrix,average_precision_score,precision_recall_curve\n",
    "import warnings\n",
    "warnings.filterwarnings('ignore')"
   ]
  },
  {
   "cell_type": "code",
   "execution_count": 2,
   "metadata": {},
   "outputs": [],
   "source": [
    "# Importing the dataset\n",
    "data=pd.read_csv('Churn_Modelling.csv')"
   ]
  },
  {
   "cell_type": "code",
   "execution_count": 3,
   "metadata": {},
   "outputs": [
    {
     "data": {
      "text/html": [
       "<div>\n",
       "<style scoped>\n",
       "    .dataframe tbody tr th:only-of-type {\n",
       "        vertical-align: middle;\n",
       "    }\n",
       "\n",
       "    .dataframe tbody tr th {\n",
       "        vertical-align: top;\n",
       "    }\n",
       "\n",
       "    .dataframe thead th {\n",
       "        text-align: right;\n",
       "    }\n",
       "</style>\n",
       "<table border=\"1\" class=\"dataframe\">\n",
       "  <thead>\n",
       "    <tr style=\"text-align: right;\">\n",
       "      <th></th>\n",
       "      <th>RowNumber</th>\n",
       "      <th>CustomerId</th>\n",
       "      <th>Surname</th>\n",
       "      <th>CreditScore</th>\n",
       "      <th>Geography</th>\n",
       "      <th>Gender</th>\n",
       "      <th>Age</th>\n",
       "      <th>Tenure</th>\n",
       "      <th>Balance</th>\n",
       "      <th>NumOfProducts</th>\n",
       "      <th>HasCrCard</th>\n",
       "      <th>IsActiveMember</th>\n",
       "      <th>EstimatedSalary</th>\n",
       "      <th>Exited</th>\n",
       "    </tr>\n",
       "  </thead>\n",
       "  <tbody>\n",
       "    <tr>\n",
       "      <th>0</th>\n",
       "      <td>1</td>\n",
       "      <td>15634602</td>\n",
       "      <td>Hargrave</td>\n",
       "      <td>619</td>\n",
       "      <td>France</td>\n",
       "      <td>Female</td>\n",
       "      <td>42</td>\n",
       "      <td>2</td>\n",
       "      <td>0.00</td>\n",
       "      <td>1</td>\n",
       "      <td>1</td>\n",
       "      <td>1</td>\n",
       "      <td>101348.88</td>\n",
       "      <td>1</td>\n",
       "    </tr>\n",
       "    <tr>\n",
       "      <th>1</th>\n",
       "      <td>2</td>\n",
       "      <td>15647311</td>\n",
       "      <td>Hill</td>\n",
       "      <td>608</td>\n",
       "      <td>Spain</td>\n",
       "      <td>Female</td>\n",
       "      <td>41</td>\n",
       "      <td>1</td>\n",
       "      <td>83807.86</td>\n",
       "      <td>1</td>\n",
       "      <td>0</td>\n",
       "      <td>1</td>\n",
       "      <td>112542.58</td>\n",
       "      <td>0</td>\n",
       "    </tr>\n",
       "    <tr>\n",
       "      <th>2</th>\n",
       "      <td>3</td>\n",
       "      <td>15619304</td>\n",
       "      <td>Onio</td>\n",
       "      <td>502</td>\n",
       "      <td>France</td>\n",
       "      <td>Female</td>\n",
       "      <td>42</td>\n",
       "      <td>8</td>\n",
       "      <td>159660.80</td>\n",
       "      <td>3</td>\n",
       "      <td>1</td>\n",
       "      <td>0</td>\n",
       "      <td>113931.57</td>\n",
       "      <td>1</td>\n",
       "    </tr>\n",
       "    <tr>\n",
       "      <th>3</th>\n",
       "      <td>4</td>\n",
       "      <td>15701354</td>\n",
       "      <td>Boni</td>\n",
       "      <td>699</td>\n",
       "      <td>France</td>\n",
       "      <td>Female</td>\n",
       "      <td>39</td>\n",
       "      <td>1</td>\n",
       "      <td>0.00</td>\n",
       "      <td>2</td>\n",
       "      <td>0</td>\n",
       "      <td>0</td>\n",
       "      <td>93826.63</td>\n",
       "      <td>0</td>\n",
       "    </tr>\n",
       "    <tr>\n",
       "      <th>4</th>\n",
       "      <td>5</td>\n",
       "      <td>15737888</td>\n",
       "      <td>Mitchell</td>\n",
       "      <td>850</td>\n",
       "      <td>Spain</td>\n",
       "      <td>Female</td>\n",
       "      <td>43</td>\n",
       "      <td>2</td>\n",
       "      <td>125510.82</td>\n",
       "      <td>1</td>\n",
       "      <td>1</td>\n",
       "      <td>1</td>\n",
       "      <td>79084.10</td>\n",
       "      <td>0</td>\n",
       "    </tr>\n",
       "  </tbody>\n",
       "</table>\n",
       "</div>"
      ],
      "text/plain": [
       "   RowNumber  CustomerId   Surname  CreditScore Geography  Gender  Age  \\\n",
       "0          1    15634602  Hargrave          619    France  Female   42   \n",
       "1          2    15647311      Hill          608     Spain  Female   41   \n",
       "2          3    15619304      Onio          502    France  Female   42   \n",
       "3          4    15701354      Boni          699    France  Female   39   \n",
       "4          5    15737888  Mitchell          850     Spain  Female   43   \n",
       "\n",
       "   Tenure    Balance  NumOfProducts  HasCrCard  IsActiveMember  \\\n",
       "0       2       0.00              1          1               1   \n",
       "1       1   83807.86              1          0               1   \n",
       "2       8  159660.80              3          1               0   \n",
       "3       1       0.00              2          0               0   \n",
       "4       2  125510.82              1          1               1   \n",
       "\n",
       "   EstimatedSalary  Exited  \n",
       "0        101348.88       1  \n",
       "1        112542.58       0  \n",
       "2        113931.57       1  \n",
       "3         93826.63       0  \n",
       "4         79084.10       0  "
      ]
     },
     "execution_count": 3,
     "metadata": {},
     "output_type": "execute_result"
    }
   ],
   "source": [
    "# Dataset first 5 records\n",
    "data.head()"
   ]
  },
  {
   "cell_type": "code",
   "execution_count": 4,
   "metadata": {},
   "outputs": [
    {
     "name": "stdout",
     "output_type": "stream",
     "text": [
      "<class 'pandas.core.frame.DataFrame'>\n",
      "RangeIndex: 10000 entries, 0 to 9999\n",
      "Data columns (total 14 columns):\n",
      " #   Column           Non-Null Count  Dtype  \n",
      "---  ------           --------------  -----  \n",
      " 0   RowNumber        10000 non-null  int64  \n",
      " 1   CustomerId       10000 non-null  int64  \n",
      " 2   Surname          10000 non-null  object \n",
      " 3   CreditScore      10000 non-null  int64  \n",
      " 4   Geography        10000 non-null  object \n",
      " 5   Gender           10000 non-null  object \n",
      " 6   Age              10000 non-null  int64  \n",
      " 7   Tenure           10000 non-null  int64  \n",
      " 8   Balance          10000 non-null  float64\n",
      " 9   NumOfProducts    10000 non-null  int64  \n",
      " 10  HasCrCard        10000 non-null  int64  \n",
      " 11  IsActiveMember   10000 non-null  int64  \n",
      " 12  EstimatedSalary  10000 non-null  float64\n",
      " 13  Exited           10000 non-null  int64  \n",
      "dtypes: float64(2), int64(9), object(3)\n",
      "memory usage: 1.1+ MB\n"
     ]
    }
   ],
   "source": [
    "# Dataset Info - Total Feature Entries & Dtypes\n",
    "data.info()"
   ]
  },
  {
   "cell_type": "code",
   "execution_count": 5,
   "metadata": {},
   "outputs": [
    {
     "data": {
      "text/html": [
       "<div>\n",
       "<style scoped>\n",
       "    .dataframe tbody tr th:only-of-type {\n",
       "        vertical-align: middle;\n",
       "    }\n",
       "\n",
       "    .dataframe tbody tr th {\n",
       "        vertical-align: top;\n",
       "    }\n",
       "\n",
       "    .dataframe thead th {\n",
       "        text-align: right;\n",
       "    }\n",
       "</style>\n",
       "<table border=\"1\" class=\"dataframe\">\n",
       "  <thead>\n",
       "    <tr style=\"text-align: right;\">\n",
       "      <th></th>\n",
       "      <th>count</th>\n",
       "      <th>mean</th>\n",
       "      <th>std</th>\n",
       "      <th>min</th>\n",
       "      <th>25%</th>\n",
       "      <th>50%</th>\n",
       "      <th>75%</th>\n",
       "      <th>max</th>\n",
       "    </tr>\n",
       "  </thead>\n",
       "  <tbody>\n",
       "    <tr>\n",
       "      <th>RowNumber</th>\n",
       "      <td>10000.0</td>\n",
       "      <td>5.000500e+03</td>\n",
       "      <td>2886.895680</td>\n",
       "      <td>1.00</td>\n",
       "      <td>2500.75</td>\n",
       "      <td>5.000500e+03</td>\n",
       "      <td>7.500250e+03</td>\n",
       "      <td>10000.00</td>\n",
       "    </tr>\n",
       "    <tr>\n",
       "      <th>CustomerId</th>\n",
       "      <td>10000.0</td>\n",
       "      <td>1.569094e+07</td>\n",
       "      <td>71936.186123</td>\n",
       "      <td>15565701.00</td>\n",
       "      <td>15628528.25</td>\n",
       "      <td>1.569074e+07</td>\n",
       "      <td>1.575323e+07</td>\n",
       "      <td>15815690.00</td>\n",
       "    </tr>\n",
       "    <tr>\n",
       "      <th>CreditScore</th>\n",
       "      <td>10000.0</td>\n",
       "      <td>6.505288e+02</td>\n",
       "      <td>96.653299</td>\n",
       "      <td>350.00</td>\n",
       "      <td>584.00</td>\n",
       "      <td>6.520000e+02</td>\n",
       "      <td>7.180000e+02</td>\n",
       "      <td>850.00</td>\n",
       "    </tr>\n",
       "    <tr>\n",
       "      <th>Age</th>\n",
       "      <td>10000.0</td>\n",
       "      <td>3.892180e+01</td>\n",
       "      <td>10.487806</td>\n",
       "      <td>18.00</td>\n",
       "      <td>32.00</td>\n",
       "      <td>3.700000e+01</td>\n",
       "      <td>4.400000e+01</td>\n",
       "      <td>92.00</td>\n",
       "    </tr>\n",
       "    <tr>\n",
       "      <th>Tenure</th>\n",
       "      <td>10000.0</td>\n",
       "      <td>5.012800e+00</td>\n",
       "      <td>2.892174</td>\n",
       "      <td>0.00</td>\n",
       "      <td>3.00</td>\n",
       "      <td>5.000000e+00</td>\n",
       "      <td>7.000000e+00</td>\n",
       "      <td>10.00</td>\n",
       "    </tr>\n",
       "    <tr>\n",
       "      <th>Balance</th>\n",
       "      <td>10000.0</td>\n",
       "      <td>7.648589e+04</td>\n",
       "      <td>62397.405202</td>\n",
       "      <td>0.00</td>\n",
       "      <td>0.00</td>\n",
       "      <td>9.719854e+04</td>\n",
       "      <td>1.276442e+05</td>\n",
       "      <td>250898.09</td>\n",
       "    </tr>\n",
       "    <tr>\n",
       "      <th>NumOfProducts</th>\n",
       "      <td>10000.0</td>\n",
       "      <td>1.530200e+00</td>\n",
       "      <td>0.581654</td>\n",
       "      <td>1.00</td>\n",
       "      <td>1.00</td>\n",
       "      <td>1.000000e+00</td>\n",
       "      <td>2.000000e+00</td>\n",
       "      <td>4.00</td>\n",
       "    </tr>\n",
       "    <tr>\n",
       "      <th>HasCrCard</th>\n",
       "      <td>10000.0</td>\n",
       "      <td>7.055000e-01</td>\n",
       "      <td>0.455840</td>\n",
       "      <td>0.00</td>\n",
       "      <td>0.00</td>\n",
       "      <td>1.000000e+00</td>\n",
       "      <td>1.000000e+00</td>\n",
       "      <td>1.00</td>\n",
       "    </tr>\n",
       "    <tr>\n",
       "      <th>IsActiveMember</th>\n",
       "      <td>10000.0</td>\n",
       "      <td>5.151000e-01</td>\n",
       "      <td>0.499797</td>\n",
       "      <td>0.00</td>\n",
       "      <td>0.00</td>\n",
       "      <td>1.000000e+00</td>\n",
       "      <td>1.000000e+00</td>\n",
       "      <td>1.00</td>\n",
       "    </tr>\n",
       "    <tr>\n",
       "      <th>EstimatedSalary</th>\n",
       "      <td>10000.0</td>\n",
       "      <td>1.000902e+05</td>\n",
       "      <td>57510.492818</td>\n",
       "      <td>11.58</td>\n",
       "      <td>51002.11</td>\n",
       "      <td>1.001939e+05</td>\n",
       "      <td>1.493882e+05</td>\n",
       "      <td>199992.48</td>\n",
       "    </tr>\n",
       "    <tr>\n",
       "      <th>Exited</th>\n",
       "      <td>10000.0</td>\n",
       "      <td>2.037000e-01</td>\n",
       "      <td>0.402769</td>\n",
       "      <td>0.00</td>\n",
       "      <td>0.00</td>\n",
       "      <td>0.000000e+00</td>\n",
       "      <td>0.000000e+00</td>\n",
       "      <td>1.00</td>\n",
       "    </tr>\n",
       "  </tbody>\n",
       "</table>\n",
       "</div>"
      ],
      "text/plain": [
       "                   count          mean           std          min  \\\n",
       "RowNumber        10000.0  5.000500e+03   2886.895680         1.00   \n",
       "CustomerId       10000.0  1.569094e+07  71936.186123  15565701.00   \n",
       "CreditScore      10000.0  6.505288e+02     96.653299       350.00   \n",
       "Age              10000.0  3.892180e+01     10.487806        18.00   \n",
       "Tenure           10000.0  5.012800e+00      2.892174         0.00   \n",
       "Balance          10000.0  7.648589e+04  62397.405202         0.00   \n",
       "NumOfProducts    10000.0  1.530200e+00      0.581654         1.00   \n",
       "HasCrCard        10000.0  7.055000e-01      0.455840         0.00   \n",
       "IsActiveMember   10000.0  5.151000e-01      0.499797         0.00   \n",
       "EstimatedSalary  10000.0  1.000902e+05  57510.492818        11.58   \n",
       "Exited           10000.0  2.037000e-01      0.402769         0.00   \n",
       "\n",
       "                         25%           50%           75%          max  \n",
       "RowNumber            2500.75  5.000500e+03  7.500250e+03     10000.00  \n",
       "CustomerId       15628528.25  1.569074e+07  1.575323e+07  15815690.00  \n",
       "CreditScore           584.00  6.520000e+02  7.180000e+02       850.00  \n",
       "Age                    32.00  3.700000e+01  4.400000e+01        92.00  \n",
       "Tenure                  3.00  5.000000e+00  7.000000e+00        10.00  \n",
       "Balance                 0.00  9.719854e+04  1.276442e+05    250898.09  \n",
       "NumOfProducts           1.00  1.000000e+00  2.000000e+00         4.00  \n",
       "HasCrCard               0.00  1.000000e+00  1.000000e+00         1.00  \n",
       "IsActiveMember          0.00  1.000000e+00  1.000000e+00         1.00  \n",
       "EstimatedSalary     51002.11  1.001939e+05  1.493882e+05    199992.48  \n",
       "Exited                  0.00  0.000000e+00  0.000000e+00         1.00  "
      ]
     },
     "execution_count": 5,
     "metadata": {},
     "output_type": "execute_result"
    }
   ],
   "source": [
    "# Dataset Features -Basic Descriptive Statistics\n",
    "data.describe().transpose()"
   ]
  },
  {
   "cell_type": "code",
   "execution_count": 6,
   "metadata": {},
   "outputs": [
    {
     "data": {
      "text/html": [
       "<div>\n",
       "<style scoped>\n",
       "    .dataframe tbody tr th:only-of-type {\n",
       "        vertical-align: middle;\n",
       "    }\n",
       "\n",
       "    .dataframe tbody tr th {\n",
       "        vertical-align: top;\n",
       "    }\n",
       "\n",
       "    .dataframe thead th {\n",
       "        text-align: right;\n",
       "    }\n",
       "</style>\n",
       "<table border=\"1\" class=\"dataframe\">\n",
       "  <thead>\n",
       "    <tr style=\"text-align: right;\">\n",
       "      <th></th>\n",
       "      <th>CreditScore</th>\n",
       "      <th>Geography</th>\n",
       "      <th>Gender</th>\n",
       "      <th>Age</th>\n",
       "      <th>Tenure</th>\n",
       "      <th>Balance</th>\n",
       "      <th>NumOfProducts</th>\n",
       "      <th>HasCrCard</th>\n",
       "      <th>IsActiveMember</th>\n",
       "      <th>EstimatedSalary</th>\n",
       "      <th>Exited</th>\n",
       "    </tr>\n",
       "  </thead>\n",
       "  <tbody>\n",
       "    <tr>\n",
       "      <th>0</th>\n",
       "      <td>619</td>\n",
       "      <td>France</td>\n",
       "      <td>Female</td>\n",
       "      <td>42</td>\n",
       "      <td>2</td>\n",
       "      <td>0.00</td>\n",
       "      <td>1</td>\n",
       "      <td>1</td>\n",
       "      <td>1</td>\n",
       "      <td>101348.88</td>\n",
       "      <td>1</td>\n",
       "    </tr>\n",
       "    <tr>\n",
       "      <th>1</th>\n",
       "      <td>608</td>\n",
       "      <td>Spain</td>\n",
       "      <td>Female</td>\n",
       "      <td>41</td>\n",
       "      <td>1</td>\n",
       "      <td>83807.86</td>\n",
       "      <td>1</td>\n",
       "      <td>0</td>\n",
       "      <td>1</td>\n",
       "      <td>112542.58</td>\n",
       "      <td>0</td>\n",
       "    </tr>\n",
       "    <tr>\n",
       "      <th>2</th>\n",
       "      <td>502</td>\n",
       "      <td>France</td>\n",
       "      <td>Female</td>\n",
       "      <td>42</td>\n",
       "      <td>8</td>\n",
       "      <td>159660.80</td>\n",
       "      <td>3</td>\n",
       "      <td>1</td>\n",
       "      <td>0</td>\n",
       "      <td>113931.57</td>\n",
       "      <td>1</td>\n",
       "    </tr>\n",
       "    <tr>\n",
       "      <th>3</th>\n",
       "      <td>699</td>\n",
       "      <td>France</td>\n",
       "      <td>Female</td>\n",
       "      <td>39</td>\n",
       "      <td>1</td>\n",
       "      <td>0.00</td>\n",
       "      <td>2</td>\n",
       "      <td>0</td>\n",
       "      <td>0</td>\n",
       "      <td>93826.63</td>\n",
       "      <td>0</td>\n",
       "    </tr>\n",
       "    <tr>\n",
       "      <th>4</th>\n",
       "      <td>850</td>\n",
       "      <td>Spain</td>\n",
       "      <td>Female</td>\n",
       "      <td>43</td>\n",
       "      <td>2</td>\n",
       "      <td>125510.82</td>\n",
       "      <td>1</td>\n",
       "      <td>1</td>\n",
       "      <td>1</td>\n",
       "      <td>79084.10</td>\n",
       "      <td>0</td>\n",
       "    </tr>\n",
       "  </tbody>\n",
       "</table>\n",
       "</div>"
      ],
      "text/plain": [
       "   CreditScore Geography  Gender  Age  Tenure    Balance  NumOfProducts  \\\n",
       "0          619    France  Female   42       2       0.00              1   \n",
       "1          608     Spain  Female   41       1   83807.86              1   \n",
       "2          502    France  Female   42       8  159660.80              3   \n",
       "3          699    France  Female   39       1       0.00              2   \n",
       "4          850     Spain  Female   43       2  125510.82              1   \n",
       "\n",
       "   HasCrCard  IsActiveMember  EstimatedSalary  Exited  \n",
       "0          1               1        101348.88       1  \n",
       "1          0               1        112542.58       0  \n",
       "2          1               0        113931.57       1  \n",
       "3          0               0         93826.63       0  \n",
       "4          1               1         79084.10       0  "
      ]
     },
     "execution_count": 6,
     "metadata": {},
     "output_type": "execute_result"
    }
   ],
   "source": [
    "# Dropping all the unnecessary  columns (features whose entries are are not going to be uses as inputs during \n",
    "# the models training process)\n",
    "data=data.drop(['RowNumber','CustomerId','Surname'],axis=1)\n",
    "data.head()"
   ]
  },
  {
   "cell_type": "code",
   "execution_count": 7,
   "metadata": {},
   "outputs": [
    {
     "data": {
      "image/png": "[encoded data removed]",
      "text/plain": [
       "<Figure size 720x432 with 1 Axes>"
      ]
     },
     "metadata": {
      "needs_background": "light"
     },
     "output_type": "display_data"
    }
   ],
   "source": [
    "# Due to the binary nature of the dependent(output) parameter (Exited:0/1), the countplot is \n",
    "# employed to observe whether or not the data samples are balanced with respect to the target feature entries.\n",
    "# As expected, the majority of the employees have not exited the bank (79.63%). \n",
    "plt.figure(figsize=(10,6))\n",
    "total = len(data['Exited'])\n",
    "count_entries=sns.countplot(x='Exited',data=data)\n",
    "plt.xlabel('Exited',fontweight='bold')\n",
    "plt.ylabel('Count',fontweight='bold')\n",
    "for p in count_entries.patches:\n",
    "    count_entries.annotate('{:.2f}%'.format(100*p.get_height()/total), (p.get_x() + p.get_width() / 2., p.get_height()), \n",
    "                               ha = 'center', va = 'center', xytext = (0, -20), textcoords = 'offset points')"
   ]
  },
  {
   "cell_type": "code",
   "execution_count": 8,
   "metadata": {},
   "outputs": [],
   "source": [
    "# Defining the ML models inputs-output \n",
    "X=data.drop('Exited',axis=1)\n",
    "y=data['Exited']"
   ]
  },
  {
   "cell_type": "code",
   "execution_count": 9,
   "metadata": {},
   "outputs": [],
   "source": [
    "# Splitting the dataset into train and test samples\n",
    "X_train, X_test, y_train, y_test = train_test_split(X, y, test_size=0.20,random_state=0)"
   ]
  },
  {
   "cell_type": "code",
   "execution_count": 10,
   "metadata": {},
   "outputs": [],
   "source": [
    "# Use of pipeline to trasform the dataset features that contain numerical and categorical entries\n",
    "# MinMaxScaler --> features with numerical/continuous entries\n",
    "# OneHotEncoder --> categorical features\n",
    "num_trnsfrm = Pipeline(steps=[('M-Scaler', MinMaxScaler())])\n",
    "cat_trnsfrm = Pipeline(steps=[('OneHot_Enc', OneHotEncoder(handle_unknown='ignore'))])"
   ]
  },
  {
   "cell_type": "code",
   "execution_count": 11,
   "metadata": {},
   "outputs": [],
   "source": [
    "# Selecting the Dtypes for the numerical and categorical features transformation (use of ColumnTransformer())\n",
    "num_feats =X_train.select_dtypes(include=['int64', 'float64']).columns\n",
    "cat_feats = X_train.select_dtypes(include=['object']).columns\n",
    "col_trnsfrm = ColumnTransformer(transformers=[('numerical', num_trnsfrm, num_feats),\n",
    "        ('categorical', cat_trnsfrm, cat_feats)])\n"
   ]
  },
  {
   "cell_type": "code",
   "execution_count": 12,
   "metadata": {},
   "outputs": [
    {
     "data": {
      "text/plain": [
       "{'DTclassifier__splitter': 'best',\n",
       " 'DTclassifier__max_features': 'sqrt',\n",
       " 'DTclassifier__max_depth': 7,\n",
       " 'DTclassifier__criterion': 'entropy'}"
      ]
     },
     "execution_count": 12,
     "metadata": {},
     "output_type": "execute_result"
    }
   ],
   "source": [
    "# Applying the make_scorer function to select the 'average_precision_score' as the scoring metric of the\n",
    "# RandomizedSearchCV(). The selection of this 'Precision_Recall' metric is based on the fact that the class imbalance of \n",
    "#the target feauture can have a negative effect on the ML model classification performance as the number of false\n",
    "# negatives becomes high (In this case: false negative --> model has incorrectly predicted that the employees \n",
    "# wil not exit the company).\n",
    "\n",
    "from sklearn.metrics import make_scorer\n",
    "scoring = make_scorer(average_precision_score)\n",
    "# Randomized Search to determine the optimal Decision Tree hyperparameter values \n",
    "DT_opt_params= { \n",
    "    \"DTclassifier__splitter\":['best', 'random'],\n",
    "    'DTclassifier__max_depth' : [3,4,5,6,7,8,9],\n",
    "    'DTclassifier__max_features': ['auto', 'sqrt', 'log2'],\n",
    "    'DTclassifier__criterion' :['gini', 'entropy']}    \n",
    "\n",
    "DT = Pipeline(steps=[('col_trnsfrm', col_trnsfrm),\n",
    "                      ('DTclassifier', DecisionTreeClassifier())])\n",
    "DT_rand_search = RandomizedSearchCV(DT, DT_opt_params,n_jobs=-1,scoring=scoring) \n",
    "DT_rand_search .fit(X_train, y_train) \n",
    "\n",
    "DT_rand_search .best_params_\n",
    "      "
   ]
  },
  {
   "cell_type": "code",
   "execution_count": 13,
   "metadata": {},
   "outputs": [
    {
     "data": {
      "text/plain": [
       "{'RFclassifier__n_estimators': 500,\n",
       " 'RFclassifier__max_features': 'sqrt',\n",
       " 'RFclassifier__max_depth': 9,\n",
       " 'RFclassifier__criterion': 'gini'}"
      ]
     },
     "execution_count": 13,
     "metadata": {},
     "output_type": "execute_result"
    }
   ],
   "source": [
    "# Randomized Search to determine the optimal Random Forest hyperparameter values \n",
    "RF_opt_params= { \n",
    "    'RFclassifier__n_estimators': [50,100,200,300,400,500],\n",
    "    'RFclassifier__max_depth' : [3,4,5,6,7,8,9],\n",
    "    'RFclassifier__max_features': ['auto', 'sqrt', 'log2'],\n",
    "    'RFclassifier__criterion' :['gini', 'entropy']}    \n",
    "\n",
    "RF = Pipeline(steps=[('col_trnsfrm', col_trnsfrm),\n",
    "                      ('RFclassifier', RandomForestClassifier())])\n",
    "RF_rand_search = RandomizedSearchCV(RF, RF_opt_params,n_jobs=-1,scoring=scoring) \n",
    "RF_rand_search .fit(X_train, y_train)  \n",
    "RF_rand_search .best_params_\n",
    "    \n",
    "\n",
    "\n"
   ]
  },
  {
   "cell_type": "code",
   "execution_count": 14,
   "metadata": {},
   "outputs": [
    {
     "data": {
      "text/plain": [
       "{'ADAclassifier__n_estimators': 400, 'ADAclassifier__learning_rate': 0.05}"
      ]
     },
     "execution_count": 14,
     "metadata": {},
     "output_type": "execute_result"
    }
   ],
   "source": [
    "# Randomized Search to determine the optimal Adaptive Boost hyperparameter values \n",
    "ADA_opt_params= { \n",
    "    'ADAclassifier__n_estimators': [50,100,200,300,400,500],\n",
    "    'ADAclassifier__learning_rate' : [0.001,0.005,0.01,0.05,0.10]}\n",
    "    \n",
    "ADA = Pipeline(steps=[('col_trnsfrm', col_trnsfrm),\n",
    "                      ('ADAclassifier', AdaBoostClassifier())])\n",
    "ADA_rand_search = RandomizedSearchCV(ADA, ADA_opt_params,n_jobs=-1,scoring=scoring) \n",
    "ADA_rand_search .fit(X_train, y_train)  \n",
    "ADA_rand_search .best_params_\n",
    "    "
   ]
  },
  {
   "cell_type": "code",
   "execution_count": 15,
   "metadata": {},
   "outputs": [
    {
     "data": {
      "text/plain": [
       "{'GBclassifier__n_estimators': 200,\n",
       " 'GBclassifier__max_features': 'log2',\n",
       " 'GBclassifier__max_depth': 5,\n",
       " 'GBclassifier__learning_rate': 0.1,\n",
       " 'GBclassifier__criterion': 'mse'}"
      ]
     },
     "execution_count": 15,
     "metadata": {},
     "output_type": "execute_result"
    }
   ],
   "source": [
    "# Randomized Search to determine the optimal Gradient Boosting hyperparameter values \n",
    "GB_opt_params= { \n",
    "    'GBclassifier__n_estimators': [50,100,200,300,400,500],\n",
    "    'GBclassifier__max_depth' : [3,4,5,6,7,8,9],\n",
    "    'GBclassifier__learning_rate' : [0.001,0.005,0.01,0.05,0.10],\n",
    "    'GBclassifier__max_features': [ 'sqrt', 'log2'],\n",
    "    'GBclassifier__criterion' :['mse', 'mae']\n",
    "}  \n",
    "\n",
    "\n",
    "GB = Pipeline(steps=[('col_trnsfrm', col_trnsfrm),\n",
    "                      ('GBclassifier', GradientBoostingClassifier())])\n",
    "GB_rand_search = RandomizedSearchCV(GB, GB_opt_params,n_jobs=-1,scoring=scoring) \n",
    "GB_rand_search .fit(X_train, y_train)  \n",
    "GB_rand_search .best_params_"
   ]
  },
  {
   "cell_type": "code",
   "execution_count": 16,
   "metadata": {},
   "outputs": [
    {
     "name": "stdout",
     "output_type": "stream",
     "text": [
      "DecisionTreeClassifier(criterion='entropy', max_depth=7, max_features='sqrt')\n",
      "RandomForestClassifier(max_depth=9, max_features='sqrt', n_estimators=500)\n",
      "AdaBoostClassifier(learning_rate=0.05, n_estimators=400)\n",
      "GradientBoostingClassifier(criterion='mse', max_depth=5, max_features='log2',\n",
      "                           n_estimators=200)\n"
     ]
    }
   ],
   "source": [
    "# Randomized search best estimator for each ML model\n",
    "print(DT_rand_search.best_estimator_[1])\n",
    "print(RF_rand_search.best_estimator_[1])\n",
    "print(ADA_rand_search.best_estimator_[1])\n",
    "print(GB_rand_search.best_estimator_[1])"
   ]
  },
  {
   "cell_type": "code",
   "execution_count": 17,
   "metadata": {},
   "outputs": [
    {
     "name": "stdout",
     "output_type": "stream",
     "text": [
      "DecisionTreeClassifier(criterion='entropy', max_depth=7, max_features='sqrt')\n",
      "Score: 0.6193\n",
      "\n",
      "RandomForestClassifier(max_depth=9, max_features='sqrt', n_estimators=500)\n",
      "Score: 0.8288\n",
      "\n",
      "AdaBoostClassifier(learning_rate=0.05, n_estimators=400)\n",
      "Score: 0.6783\n",
      "\n",
      "GradientBoostingClassifier(criterion='mse', max_depth=5, max_features='log2',\n",
      "                           n_estimators=200)\n",
      "Score: 0.8856\n",
      "\n",
      "------------------------------------------------------------\n",
      "\n",
      "Best Classifier:\n",
      "GradientBoostingClassifier(criterion='mse', max_depth=5, max_features='log2',\n",
      "                           n_estimators=200) \n",
      "\n",
      "Best Score: ---> 0.8856400639686223 \n"
     ]
    }
   ],
   "source": [
    "# Pipeline with inputs a) the ColumnTransformer () and b) the best estimator for each ML model\n",
    "# The scope is to fit the models to the training set and determine the best classifier based on their average precision score\n",
    "clf_models = [\n",
    "    DT_rand_search.best_estimator_[1],\n",
    "    RF_rand_search.best_estimator_[1],\n",
    "    ADA_rand_search.best_estimator_[1],\n",
    "    GB_rand_search.best_estimator_[1]\n",
    "    ]\n",
    "\n",
    "\n",
    "best_score=0 \n",
    "\n",
    "\n",
    "for model in clf_models:\n",
    "    \n",
    "    clf_pipe= Pipeline(steps=[('col_trnsfrm', col_trnsfrm),('model',model)])\n",
    "    clf_pipe.fit(X_train, y_train)   \n",
    "    print(model)\n",
    "    avg_precision_sc=average_precision_score(y_train,clf_pipe.predict_proba(X_train)[:,1])\n",
    " \n",
    "    print(\"Score: %.4f\" % avg_precision_sc)\n",
    "    print('\\r')\n",
    "    \n",
    "    if  avg_precision_sc> best_score:\n",
    "        best_score=avg_precision_sc\n",
    "        best_model=model\n",
    "print('------------------------------------------------------------')\n",
    "print('\\r')   \n",
    "print(\"Best Classifier:\\n{} \".format(best_model))\n",
    "print('\\r') \n",
    "print(\"Best Score: ---> {} \".format(best_score))\n",
    "\n",
    "\n",
    "\n",
    "\n"
   ]
  },
  {
   "cell_type": "code",
   "execution_count": 18,
   "metadata": {},
   "outputs": [],
   "source": [
    "# Pipeline consisting of the ColumnTransformer() and the model with the best average precision score to make \n",
    "# predictions on the test set\n",
    "best_clf_pipe= Pipeline(steps=[('col_trnsfrm', col_trnsfrm),('model',best_model)])   \n",
    "y_prob=best_clf_pipe.predict_proba(X_test)# predicting the probability\n",
    "y_pred=best_clf_pipe.predict(X_test)# predicting the class"
   ]
  },
  {
   "cell_type": "code",
   "execution_count": 19,
   "metadata": {},
   "outputs": [
    {
     "data": {
      "text/plain": [
       "array([[0.76731865, 0.23268135],\n",
       "       [0.6844691 , 0.3155309 ],\n",
       "       [0.82860919, 0.17139081],\n",
       "       ...,\n",
       "       [0.91737812, 0.08262188],\n",
       "       [0.82680627, 0.17319373],\n",
       "       [0.84565226, 0.15434774]])"
      ]
     },
     "execution_count": 19,
     "metadata": {},
     "output_type": "execute_result"
    }
   ],
   "source": [
    "# Probablity that an employee a) will not exit (1st column- Class:0), b) will exit (2nd column- Class:1)\n",
    "y_prob"
   ]
  },
  {
   "cell_type": "code",
   "execution_count": 20,
   "metadata": {},
   "outputs": [
    {
     "data": {
      "image/png": "[encoded data removed]",
      "text/plain": [
       "<Figure size 432x288 with 1 Axes>"
      ]
     },
     "metadata": {
      "needs_background": "light"
     },
     "output_type": "display_data"
    }
   ],
   "source": [
    "# Best score model - Precision_Recall Curve\n",
    "\n",
    "# When dealing with imbalance data, it is more meaningful to use the Precision_Recall curve instead of the ROC  \n",
    "# curve because precision does not take into account the large number of  negative samples as \n",
    "# precision = True Positives /(True Positives + False Positives) and as a result the Precision_Recall curve \n",
    "# describes better the minority class (Class:1- employees that exited)\n",
    "# On the other hand, the False Positive Rate of the ROC metric is: False Pos/ (False Pos + True Negative). \n",
    "# At the presence of an imbalance class the True Negative number is large and as a result the significance of\n",
    "# False Positive Rate becomes low.\n",
    "\n",
    "from sklearn.metrics import plot_precision_recall_curve\n",
    "\n",
    "plot_precision_recall_curve(best_clf_pipe, X_test, y_test,label='Avg_PR_Score={0:0.3f}'.format(best_score))\n",
    "plt.title('Precision-Recall Curve (Binary Classification)')\n",
    "plt.show();\n"
   ]
  },
  {
   "cell_type": "code",
   "execution_count": 21,
   "metadata": {},
   "outputs": [
    {
     "name": "stdout",
     "output_type": "stream",
     "text": [
      "              precision    recall  f1-score   support\n",
      "\n",
      "           0       0.89      0.95      0.92      1595\n",
      "           1       0.72      0.53      0.61       405\n",
      "\n",
      "    accuracy                           0.86      2000\n",
      "   macro avg       0.80      0.74      0.76      2000\n",
      "weighted avg       0.85      0.86      0.85      2000\n",
      "\n"
     ]
    }
   ],
   "source": [
    "# Classification Report\n",
    "print(classification_report(y_test,y_pred))"
   ]
  },
  {
   "cell_type": "code",
   "execution_count": 22,
   "metadata": {},
   "outputs": [
    {
     "data": {
      "image/png": "[encoded data removed]",
      "text/plain": [
       "<Figure size 576x576 with 2 Axes>"
      ]
     },
     "metadata": {
      "needs_background": "light"
     },
     "output_type": "display_data"
    }
   ],
   "source": [
    "# Confusion Matrix\n",
    "fig, axs = plt.subplots(figsize=(8,8))\n",
    "plot_confusion_matrix(best_clf_pipe,X_test,y_test,values_format='d',\n",
    "                      display_labels=['Not Exited','Exited'],cmap='plasma',ax=axs);"
   ]
  }
 ],
 "metadata": {
  "kernelspec": {
   "display_name": "Python 3",
   "language": "python",
   "name": "python3"
  },
  "language_info": {
   "codemirror_mode": {
    "name": "ipython",
    "version": 3
   },
   "file_extension": ".py",
   "mimetype": "text/x-python",
   "name": "python",
   "nbconvert_exporter": "python",
   "pygments_lexer": "ipython3",
   "version": "3.8.8"
  }
 },
 "nbformat": 4,
 "nbformat_minor": 2
}
